{
 "cells": [
  {
   "attachments": {},
   "cell_type": "markdown",
   "id": "6b4a548f",
   "metadata": {},
   "source": [
    "# serial-comm: comunicación y registro de datos por puerto serial\n",
    "Autor: Claudio Morales D.<br>\n",
    "https://github.com/cmoralesd/serial-comm <br>\n",
    "Otoño 2023<br>\n",
    "<br>\n",
    "Código base para establecer comunicación por puerto serial entre un dispositivo Arduino (o similar) y un script de Python, utilizando la librería **pyserial**, controlar entradas y salidas del módulo Arduino mediante valores numéricos intercambiados en formato de texto, registrar datos en un archivo CSV, procesar los datos utilizando las herramientas básicas de la librería **pandas** y obtener gráficos de los datos registrados utilizando **matplotlib.pyplot**.\n",
    "\n",
    "Para comprender las características generales de la comunicación serial, consulte: https://hetpro-store.com/TUTORIALES/puerto-serial/\n",
    "\n",
    "Los archivos para programación del módulo Arduino se encuentran en https://github.com/cmoralesd/serial-comm\n"
   ]
  },
  {
   "cell_type": "code",
   "execution_count": 1,
   "id": "d642818d",
   "metadata": {},
   "outputs": [],
   "source": [
    "# librerías requeridas\n",
    "import serial  # librería pyserial, para comunicación con los puertos serial < pip install pyserial >\n",
    "import time    # para el manejo de eventos de tiempo, nativa de Python\n",
    "import pandas as pd  # para el manejo de archivos de datos < pip install pandas >\n",
    "import matplotlib.pyplot as plt # para realizar gráficos < pip install matplotlib >\n",
    "\n",
    "\n",
    "# funciones para enviar y recibir mensajes en formato de texto, codificado en UTF-8\n",
    "# los mensajes utilizan como terminador un caracter de final de línea '\\n'\n",
    "def encode_send(ser, texto):\n",
    "    enc = f'{texto}\\n'.encode('UTF-8')\n",
    "    ser.write(enc)\n",
    "\n",
    "def decode_response(ser):\n",
    "    message_from_serial = ser.readline()\n",
    "    res = message_from_serial[:-1].decode()\n",
    "    return res\n"
   ]
  },
  {
   "attachments": {},
   "cell_type": "markdown",
   "id": "4a19c388",
   "metadata": {},
   "source": [
    "### 1. Código base en esquema request-response\n",
    "\n",
    "El esquema de comunicación utilizado es **maestro-esclavo** (master-slave) en modo **request-response** (requerimiento-respuesta): sólo un dispositivo puede iniciar la comunicación enviando un requerimiento y el otro dispositivo responde. \n",
    "\n",
    "En este caso, el script de Python siempre inicia la comunicación, con un mensaje de texto que contiene dos valores enteros separados por una coma (,). El dispositivo Arduino recibe el mensaje, lo procesa, y envía una respuesta.\n",
    "\n",
    "El código utilizado en Arduino es: **serial-comm.ino**"
   ]
  },
  {
   "cell_type": "code",
   "execution_count": null,
   "id": "fb622889",
   "metadata": {},
   "outputs": [],
   "source": [
    "# Esquema básico para request-response\n",
    "# El código utilizado en Arduino es: serial-comm.ino\n",
    "\n",
    "# 1. Inicializa el puerto de comunicación y espera a que esté listo\n",
    "serialport = serial.Serial('/dev/ttyUSB0', 9600)\n",
    "time.sleep(0.1)   # tiempo de espera recomendado: 100 ms\n",
    "\n",
    "# 2. Preparamos el mensaje a ser transmitido\n",
    "val_0 = 123\n",
    "val_1 = 456\n",
    "message_to_serial = str(val_0) + ',' + str(val_1)\n",
    "\n",
    "# 3. Enviamos al puerto y esperamos la respuesta\n",
    "encode_send(serialport, message_to_serial)\n",
    "message_from_serial = decode_response(serialport)\n",
    "\n",
    "# 4. Procesamos la respuesta\n",
    "print(f'enviado: {message_to_serial}')\n",
    "print(f'recibido: {message_from_serial}')\n",
    "\n",
    "# 5. Cierra el puerto serial\n",
    "#serialport.close()\n",
    "print('el puerto se ha cerrado correctamente')\n"
   ]
  },
  {
   "attachments": {},
   "cell_type": "markdown",
   "id": "d9ea8df7",
   "metadata": {},
   "source": [
    "### 2. Enviando mensajes en forma cíclica\n",
    "\n",
    "El código utilizado en Arduino es: **serial-comm.ino**"
   ]
  },
  {
   "cell_type": "code",
   "execution_count": null,
   "id": "1ce2f443",
   "metadata": {},
   "outputs": [],
   "source": [
    "# Esquema básico para comunicarse por puerto serial en forma cíclica\n",
    "# El código utilizado en Arduino es: serial-comm.ino\n",
    "\n",
    "# inicializa el puerto de comunicación y espera a que esté listo\n",
    "serialport = serial.Serial('/dev/ttyUSB0', 9600)\n",
    "time.sleep(0.1)   # tiempo de espera recomendado: 100 ms\n",
    "\n",
    "time_start = time.per_counter()\n",
    "time_elapsed = time.per_counter() - time_start\n",
    "time_stop = 1. #en segundos\n",
    "\n",
    "# inicia el ciclo de intercambio de datos\n",
    "\n",
    "\n",
    "while time_elapsed < time_stop:\n",
    "    # Preparamos el mensaje a ser transmitido\n",
    "    val_0 = 0\n",
    "    val_1 = 0\n",
    "    message_to_serial = str(val_0) + ',' + str(val_1)\n",
    "\n",
    "    # enviamos al puerto y esperamos la respuesta\n",
    "    encode_send(serialport, message_to_serial)\n",
    "    message_from_serial = decode_response(serialport)\n",
    "\n",
    "    # procesamos la respuesta\n",
    "    print(f'enviado: {message_to_serial}')\n",
    "    print(f'recibido: {message_from_serial}')\n",
    "\n",
    "    #actualizar la medición de tiempo\n",
    "    time_elapsed = time.per_counter() - time_start\n",
    "    print(f'tiempo: {time_elapsed}')\n",
    "    time.sleep(0.2) # en segundos\n",
    "\n",
    "# cierra el puerto serial\n",
    "serialport.close()\n",
    "print('el puerto se ha cerrado correctamente')"
   ]
  },
  {
   "cell_type": "code",
   "execution_count": 13,
   "id": "0a89ae8e",
   "metadata": {},
   "outputs": [
    {
     "data": {
      "text/plain": [
       "8243.3838324"
      ]
     },
     "execution_count": 13,
     "metadata": {},
     "output_type": "execute_result"
    }
   ],
   "source": [
    "time.perf_counter()"
   ]
  },
  {
   "attachments": {},
   "cell_type": "markdown",
   "id": "65f652e1",
   "metadata": {},
   "source": [
    "### 2. Controlando pines I/O en el dispositivo Arduino\n",
    "\n",
    "El código utilizado en Arduino es: **serial-control.ino**"
   ]
  },
  {
   "cell_type": "code",
   "execution_count": null,
   "id": "d9dfd2b3",
   "metadata": {},
   "outputs": [],
   "source": [
    "# Esquema básico para control de pines I/O en modo request-response\n",
    "# El código utilizado en Arduino es: serial-comm.ino\n",
    "\n",
    "# 1. Inicializa el puerto de comunicación y espera a que esté listo\n",
    "serialport = serial.Serial('/dev/ttyUSB0', 9600)\n",
    "time.sleep(0.1)   # tiempo de espera recomendado: 100 ms\n",
    "\n",
    "# 2. Preparamos el mensaje a ser transmitido\n",
    "led_verde = 0    # 0 = apagado, otro valor = encendido\n",
    "led_rojo = 0     # nivel PWM entre 0 y 255\n",
    "message_to_serial = str(led_verde) + ',' + str(led_rojo)\n",
    "\n",
    "# 3. Enviamos al puerto y esperamos la respuesta\n",
    "encode_send(serialport, message_to_serial)\n",
    "message_from_serial = decode_response(serialport)\n",
    "\n",
    "# 4. Procesamos la respuesta\n",
    "print(f'enviado: {message_to_serial}')\n",
    "\n",
    "data = message_from_serial.split(';')\n",
    "val_x = int(data[0])\n",
    "val_y = int(data[1])\n",
    "print(f'val_x = {val_x}')\n",
    "print(f'val_y = {val_y}')\n",
    "\n",
    "# 5. Cierra el puerto serial\n",
    "serialport.close()\n",
    "print('el puerto se ha cerrado correctamente')"
   ]
  },
  {
   "attachments": {},
   "cell_type": "markdown",
   "id": "f3155cff",
   "metadata": {},
   "source": [
    "### 4. Registrando datos recibidos desde el puerto serial\n",
    "\n",
    "El código utilizado en Arduino es: **serial-control.ino**"
   ]
  },
  {
   "cell_type": "code",
   "execution_count": null,
   "id": "ec5cc7c4",
   "metadata": {},
   "outputs": [],
   "source": [
    "# Registro de transacciones vía puerto serial\n",
    "# El código utilizado en Arduino es: serial-comm.ino\n",
    "\n",
    "# 1. Inicializa el puerto de comunicaciones\n",
    "serialport = serial.Serial('/dev/ttyUSB0', 9600)\n",
    "time.sleep(0.1) \n",
    "# 2. Inicializa el archivo de registro de datos\n",
    "filename = 'dataset' + time.strftime('%d-%m-%y-%H:%M:%S') + '.csv'\n",
    "with open(filename, 'w') as file:\n",
    "    file.write('tiempo,led_verde,led_rojo,val_x,val_y\\n')\n",
    "\n",
    "# 3. Registra las transacciones durante un periodo de tiempo especificado\n",
    "time_start = time.per_counter()\n",
    "time_elapsed = time.per_counter() - time_start\n",
    "time_stop = 5. #en segundos\n",
    "\n",
    "while time_elapsed < time_stop:\n",
    "    led_verde = 1    # 0 = apagado, otro valor = encendido\n",
    "    led_rojo = time_elapsed/time_stop + 255 # nivel PWM entre 0 y 255\n",
    "    message_to_serial = str(led_verde) + ',' + str(led_rojo)\n",
    "\n",
    "    # 3. Enviamos al puerto y esperamos la respuesta\n",
    "    encode_send(serialport, message_to_serial)\n",
    "    message_from_serial = decode_response(serialport)\n",
    "\n",
    "    data = message_from_serial.split(';')\n",
    "    val_x = int(data[0])\n",
    "    val_y = int(data[1])\n",
    "    print(f'enviado: {message_to_serial}')\n",
    "    print(f'recibido: {message_from_serial}')\n",
    "\n",
    "    with open(filename,'a')as file:\n",
    "        file.write(str(time_elapsed) + ',' str(led_verde) + ',' str(led_rojo) + ',' str(val_x)+ ',' str(val_y) + '\\n')\n",
    "    time_elapsed = time.per_counter() - time_start\n",
    "# 4. Cierra el puerto de comunicaciones\n",
    "serialport.close()\n",
    "print('el puerto se ha cerrado correctamente')"
   ]
  },
  {
   "cell_type": "code",
   "execution_count": 22,
   "id": "31f48281",
   "metadata": {},
   "outputs": [
    {
     "data": {
      "text/plain": [
       "'dataset02-06-23-17:42:05.csv'"
      ]
     },
     "execution_count": 22,
     "metadata": {},
     "output_type": "execute_result"
    }
   ],
   "source": [
    "filename = 'dataset' + time.strftime('%d-%m-%y-%H:%M:%S') + '.csv'\n",
    "filename"
   ]
  },
  {
   "cell_type": "code",
   "execution_count": null,
   "id": "35836c48",
   "metadata": {},
   "outputs": [],
   "source": [
    "#ahora graficamos\n",
    "df = pd.read_csv(filename)\n",
    "df"
   ]
  },
  {
   "cell_type": "code",
   "execution_count": null,
   "id": "2bdf2632",
   "metadata": {},
   "outputs": [],
   "source": [
    "x = df['tiempo'].tolist()\n",
    "y=df['led_rojo'].tolist()\n",
    "\n",
    "ax = plt.figure().add_subplot()\n",
    "ax.plot(x,y)\n",
    "plt.show()\n"
   ]
  }
 ],
 "metadata": {
  "kernelspec": {
   "display_name": "Python 3 (ipykernel)",
   "language": "python",
   "name": "python3"
  },
  "language_info": {
   "codemirror_mode": {
    "name": "ipython",
    "version": 3
   },
   "file_extension": ".py",
   "mimetype": "text/x-python",
   "name": "python",
   "nbconvert_exporter": "python",
   "pygments_lexer": "ipython3",
   "version": "3.10.0"
  }
 },
 "nbformat": 4,
 "nbformat_minor": 5
}
