{
 "cells": [
  {
   "attachments": {},
   "cell_type": "markdown",
   "id": "6b4a548f",
   "metadata": {},
   "source": [
    "# serial-comm: comunicación y registro de datos por puerto serial\n",
    "Autor: Claudio Morales D.<br>\n",
    "https://github.com/cmoralesd/serial-comm <br>\n",
    "Otoño 2023<br>\n",
    "<br>\n",
    "Código base para establecer comunicación por puerto serial entre un dispositivo Arduino (o similar) y un script de Python, utilizando la librería **pyserial**, controlar entradas y salidas del módulo Arduino mediante valores numéricos intercambiados en formato de texto, registrar datos en un archivo CSV, procesar los datos utilizando las herramientas básicas de la librería **pandas** y obtener gráficos de los datos registrados utilizando **matplotlib.pyplot**.\n",
    "\n",
    "Para comprender las características generales de la comunicación serial, consulte: https://hetpro-store.com/TUTORIALES/puerto-serial/\n",
    "\n",
    "Los archivos para programación del módulo Arduino se encuentran en https://github.com/cmoralesd/serial-comm\n"
   ]
  },
  {
   "cell_type": "code",
   "execution_count": 2,
   "id": "d642818d",
   "metadata": {},
   "outputs": [],
   "source": [
    "# librerías requeridas\n",
    "import serial  # librería pyserial, para comunicación con los puertos serial < pip install pyserial >\n",
    "import time    # para el manejo de eventos de tiempo, nativa de Python\n",
    "import pandas as pd  # para el manejo de archivos de datos < pip install pandas >\n",
    "import matplotlib.pyplot as plt # para realizar gráficos < pip install matplotlib >\n",
    "\n",
    "\n",
    "# funciones para enviar y recibir mensajes en formato de texto, codificado en UTF-8\n",
    "# los mensajes utilizan como terminador un caracter de final de línea '\\n'\n",
    "def encode_send(ser, texto):\n",
    "    enc = f'{texto}\\n'.encode('UTF-8')\n",
    "    ser.write(enc)\n",
    "\n",
    "def decode_response(ser):\n",
    "    message_from_serial = ser.readline()\n",
    "    res = message_from_serial[:-1].decode()\n",
    "    return res\n"
   ]
  },
  {
   "attachments": {},
   "cell_type": "markdown",
   "id": "4a19c388",
   "metadata": {},
   "source": [
    "### 1. Código base en esquema request-response\n",
    "\n",
    "El esquema de comunicación utilizado es **maestro-esclavo** (master-slave) en modo **request-response** (requerimiento-respuesta): sólo un dispositivo puede iniciar la comunicación enviando un requerimiento y el otro dispositivo responde. \n",
    "\n",
    "En este caso, el script de Python siempre inicia la comunicación, con un mensaje de texto que contiene dos valores enteros separados por una coma (,). El dispositivo Arduino recibe el mensaje, lo procesa, y envía una respuesta.\n",
    "\n",
    "El código utilizado en Arduino es: **serial-comm.ino**"
   ]
  },
  {
   "cell_type": "code",
   "execution_count": 3,
   "id": "fb622889",
   "metadata": {},
   "outputs": [
    {
     "name": "stdout",
     "output_type": "stream",
     "text": [
      "enviado: 123,456\n",
      "recibido: Arduino OK\n",
      "el puerto se ha cerrado correctamente\n"
     ]
    }
   ],
   "source": [
    "# Esquema básico para request-response\n",
    "# El código utilizado en Arduino es: serial-comm.ino\n",
    "\n",
    "# 1. Inicializa el puerto de comunicación y espera a que esté listo\n",
    "serialport = serial.Serial('COM4', 9600)\n",
    "time.sleep(0.1)   # tiempo de espera recomendado: 100 ms\n",
    "\n",
    "# 2. Preparamos el mensaje a ser transmitido\n",
    "val_0 = 123\n",
    "val_1 = 456\n",
    "message_to_serial = str(val_0) + ',' + str(val_1)\n",
    "\n",
    "# 3. Enviamos al puerto y esperamos la respuesta\n",
    "encode_send(serialport, message_to_serial)\n",
    "message_from_serial = decode_response(serialport)\n",
    "\n",
    "# 4. Procesamos la respuesta\n",
    "print(f'enviado: {message_to_serial}')\n",
    "print(f'recibido: {message_from_serial}')\n",
    "\n",
    "# 5. Cierra el puerto serial\n",
    "serialport.close()\n",
    "print('el puerto se ha cerrado correctamente')\n"
   ]
  },
  {
   "attachments": {},
   "cell_type": "markdown",
   "id": "d9ea8df7",
   "metadata": {},
   "source": [
    "### 2. Enviando mensajes en forma cíclica\n",
    "\n",
    "El código utilizado en Arduino es: **serial-comm.ino**"
   ]
  },
  {
   "cell_type": "code",
   "execution_count": 15,
   "id": "74a72fe6",
   "metadata": {},
   "outputs": [],
   "source": [
    "serialport.close()"
   ]
  },
  {
   "cell_type": "code",
   "execution_count": 16,
   "id": "1ce2f443",
   "metadata": {},
   "outputs": [
    {
     "name": "stdout",
     "output_type": "stream",
     "text": [
      "enviado: 0,0\n",
      "recibido: Arduino OK\n",
      "tiempo: 0.5449744000006831\n",
      "enviado: 0,0\n",
      "recibido: 0;0\n",
      "tiempo: 0.7915830000001733\n",
      "enviado: 0,0\n",
      "recibido: 0;0\n",
      "tiempo: 1.0263237000008303\n",
      "el puerto se ha cerrado correctamente\n"
     ]
    }
   ],
   "source": [
    "# Esquema básico para comunicarse por puerto serial en forma cíclica\n",
    "# El código utilizado en Arduino es: serial-comm.ino\n",
    "\n",
    "# inicializa el puerto de comunicación y espera a que esté listo\n",
    "serialport = serial.Serial('COM4', 9600)\n",
    "time.sleep(0.1)   # tiempo de espera recomendado: 100 ms\n",
    "\n",
    "time_start = time.perf_counter()\n",
    "time_elapsed = time.perf_counter() - time_start\n",
    "time_stop = 1 #en segundos\n",
    "\n",
    "# inicia el ciclo de intercambio de datos\n",
    "\n",
    "\n",
    "while time_elapsed < time_stop:\n",
    "    # Preparamos el mensaje a ser transmitido\n",
    "    val_0 = 0\n",
    "    val_1 = 0\n",
    "    message_to_serial = str(val_0) + ',' + str(val_1)\n",
    "\n",
    "    # enviamos al puerto y esperamos la respuesta\n",
    "    encode_send(serialport, message_to_serial)\n",
    "    message_from_serial = decode_response(serialport)\n",
    "\n",
    "    # procesamos la respuesta\n",
    "    print(f'enviado: {message_to_serial}')\n",
    "    print(f'recibido: {message_from_serial}')\n",
    "\n",
    "    #actualizar la medición de tiempo\n",
    "    time_elapsed = time.perf_counter() - time_start\n",
    "    print(f'tiempo: {time_elapsed}')\n",
    "    time.sleep(0.2) # en segundos\n",
    "\n",
    "# cierra el puerto serial\n",
    "serialport.close()\n",
    "print('el puerto se ha cerrado correctamente')"
   ]
  },
  {
   "cell_type": "code",
   "execution_count": 22,
   "id": "0a89ae8e",
   "metadata": {},
   "outputs": [
    {
     "data": {
      "text/plain": [
       "5679.1981578"
      ]
     },
     "execution_count": 22,
     "metadata": {},
     "output_type": "execute_result"
    }
   ],
   "source": [
    "time.perf_counter()"
   ]
  },
  {
   "attachments": {},
   "cell_type": "markdown",
   "id": "65f652e1",
   "metadata": {},
   "source": [
    "### 2. Controlando pines I/O en el dispositivo Arduino\n",
    "\n",
    "El código utilizado en Arduino es: **serial-control.ino**"
   ]
  },
  {
   "cell_type": "code",
   "execution_count": 25,
   "id": "09e2cccc",
   "metadata": {},
   "outputs": [],
   "source": [
    "serialport.close()"
   ]
  },
  {
   "cell_type": "code",
   "execution_count": 64,
   "id": "d9dfd2b3",
   "metadata": {},
   "outputs": [
    {
     "name": "stdout",
     "output_type": "stream",
     "text": [
      "enviado: 0,0\n",
      "val_x = 511\n",
      "val_y = 506\n",
      "el puerto se ha cerrado correctamente\n"
     ]
    }
   ],
   "source": [
    "# Esquema básico para control de pines I/O en modo request-response\n",
    "# El código utilizado en Arduino es: serial-comm.ino\n",
    "\n",
    "# 1. Inicializa el puerto de comunicación y espera a que esté listo\n",
    "serialport = serial.Serial('COM4', 9600)\n",
    "time.sleep(0.1)   # tiempo de espera recomendado: 100 ms\n",
    "\n",
    "# 2. Preparamos el mensaje a ser transmitido\n",
    "led_verde = 0    # 0 = apagado, otro valor = encendido\n",
    "led_rojo = 0     # nivel PWM entre 0 y 255\n",
    "message_to_serial = str(led_verde) + ',' + str(led_rojo)\n",
    "\n",
    "# 3. Enviamos al puerto y esperamos la respuesta\n",
    "encode_send(serialport, message_to_serial)\n",
    "message_from_serial = decode_response(serialport)\n",
    "encode_send(serialport, message_to_serial)\n",
    "message_from_serial = decode_response(serialport)\n",
    "\n",
    "# 4. Procesamos la respuesta\n",
    "print(f'enviado: {message_to_serial}')\n",
    "\n",
    "data = message_from_serial.split(';')\n",
    "val_x = int(data[0])\n",
    "val_y = int(data[1])\n",
    "print(f'val_x = {val_x}')\n",
    "print(f'val_y = {val_y}')\n",
    "\n",
    "# 5. Cierra el puerto serial\n",
    "serialport.close()\n",
    "print('el puerto se ha cerrado correctamente')"
   ]
  },
  {
   "attachments": {},
   "cell_type": "markdown",
   "id": "f3155cff",
   "metadata": {},
   "source": [
    "### 4. Registrando datos recibidos desde el puerto serial\n",
    "\n",
    "El código utilizado en Arduino es: **serial-control.ino**"
   ]
  },
  {
   "cell_type": "code",
   "execution_count": 59,
   "id": "526b31b2",
   "metadata": {},
   "outputs": [],
   "source": [
    "serialport.close()"
   ]
  },
  {
   "cell_type": "code",
   "execution_count": 61,
   "id": "ec5cc7c4",
   "metadata": {},
   "outputs": [
    {
     "name": "stdout",
     "output_type": "stream",
     "text": [
      "enviado: 1,255.00000953333347\n",
      "recibido: 0;506\n",
      "enviado: 1,255.19771433333335\n",
      "recibido: 512;506\n",
      "enviado: 1,255.23563086666672\n",
      "recibido: 1023;506\n",
      "enviado: 1,255.27416596666657\n",
      "recibido: 1023;1023\n",
      "enviado: 1,255.31350899999993\n",
      "recibido: 1023;1023\n",
      "enviado: 1,255.3531223333333\n",
      "recibido: 512;1023\n",
      "enviado: 1,255.39104999999986\n",
      "recibido: 512;1023\n",
      "enviado: 1,255.4298432333335\n",
      "recibido: 0;1023\n",
      "enviado: 1,255.46731876666672\n",
      "recibido: 0;1023\n",
      "enviado: 1,255.50476013333324\n",
      "recibido: 512;1023\n",
      "enviado: 1,255.54270106666658\n",
      "recibido: 1023;1023\n",
      "enviado: 1,255.58199163333333\n",
      "recibido: 1023;1023\n",
      "enviado: 1,255.62140830000013\n",
      "recibido: 1023;1023\n",
      "enviado: 1,255.66083419999995\n",
      "recibido: 1023;1023\n",
      "enviado: 1,255.70048256666664\n",
      "recibido: 641;1023\n",
      "enviado: 1,255.73949190000016\n",
      "recibido: 528;1023\n",
      "enviado: 1,255.7780800666666\n",
      "recibido: 512;1023\n",
      "enviado: 1,255.8161875666668\n",
      "recibido: 512;1023\n",
      "enviado: 1,255.85404433333346\n",
      "recibido: 512;506\n",
      "enviado: 1,255.89213090000007\n",
      "recibido: 512;506\n",
      "enviado: 1,255.93006143333332\n",
      "recibido: 512;506\n",
      "enviado: 1,255.96815566666677\n",
      "recibido: 512;506\n",
      "el puerto se ha cerrado correctamente\n"
     ]
    }
   ],
   "source": [
    "# Registro de transacciones vía puerto serial\n",
    "# El código utilizado en Arduino es: serial-comm.ino\n",
    "\n",
    "# 1. Inicializa el puerto de comunicaciones\n",
    "serialport = serial.Serial('COM4', 9600)\n",
    "time.sleep(0.1) \n",
    "# 2. Inicializa el archivo de registro de datos\n",
    "filename = 'dataset-' + time.strftime('%d-%m-%y-%H%M%S') + '.csv'\n",
    "with open(filename, 'w') as file:\n",
    "    file.write('tiempo,led_verde,led_rojo,val_x,val_y\\n')\n",
    "\n",
    "# 3. Registra las transacciones durante un periodo de tiempo especificado\n",
    "time_start = time.perf_counter()\n",
    "time_elapsed = time.perf_counter() - time_start\n",
    "time_stop = 3. #en segundos\n",
    "\n",
    "while time_elapsed < time_stop:\n",
    "    led_verde = 1    # 0 = apagado, otro valor = encendido\n",
    "    led_rojo = time_elapsed/time_stop + 255 # nivel PWM entre 0 y 255\n",
    "    message_to_serial = str(led_verde) + ',' + str(led_rojo)\n",
    "\n",
    "    # 3. Enviamos al puerto y esperamos la respuesta\n",
    "    encode_send(serialport, message_to_serial)\n",
    "    message_from_serial = decode_response(serialport)\n",
    "    encode_send(serialport, message_to_serial)\n",
    "    message_from_serial = decode_response(serialport)\n",
    "\n",
    "    data = message_from_serial.split(';')\n",
    "    val_x = int(data[0])\n",
    "    val_y = int(data[1])\n",
    "    print(f'enviado: {message_to_serial}')\n",
    "    print(f'recibido: {message_from_serial}')\n",
    "\n",
    "    with open(filename,'a')as file:\n",
    "        file.write(str(time_elapsed) + ',' + str(led_verde) + ',' +str(led_rojo) + ',' +str(val_x) + ','+ str(val_y) + '\\n')\n",
    "    time_elapsed = time.perf_counter() - time_start\n",
    "# 4. Cierra el puerto de comunicaciones\n",
    "serialport.close()\n",
    "print('el puerto se ha cerrado correctamente')"
   ]
  },
  {
   "cell_type": "code",
   "execution_count": 40,
   "id": "31f48281",
   "metadata": {},
   "outputs": [
    {
     "data": {
      "text/plain": [
       "'dataset-07-06-23-19:14:41.csv'"
      ]
     },
     "execution_count": 40,
     "metadata": {},
     "output_type": "execute_result"
    }
   ],
   "source": [
    "filename = 'dataset-' + time.strftime('%d-%m-%y-%H:%M:%S') + '.csv'\n",
    "filename"
   ]
  },
  {
   "cell_type": "code",
   "execution_count": 62,
   "id": "35836c48",
   "metadata": {},
   "outputs": [
    {
     "data": {
      "text/html": [
       "<div>\n",
       "<style scoped>\n",
       "    .dataframe tbody tr th:only-of-type {\n",
       "        vertical-align: middle;\n",
       "    }\n",
       "\n",
       "    .dataframe tbody tr th {\n",
       "        vertical-align: top;\n",
       "    }\n",
       "\n",
       "    .dataframe thead th {\n",
       "        text-align: right;\n",
       "    }\n",
       "</style>\n",
       "<table border=\"1\" class=\"dataframe\">\n",
       "  <thead>\n",
       "    <tr style=\"text-align: right;\">\n",
       "      <th></th>\n",
       "      <th>tiempo</th>\n",
       "      <th>led_verde</th>\n",
       "      <th>led_rojo</th>\n",
       "      <th>val_x</th>\n",
       "      <th>val_y</th>\n",
       "    </tr>\n",
       "  </thead>\n",
       "  <tbody>\n",
       "    <tr>\n",
       "      <th>0</th>\n",
       "      <td>0.000029</td>\n",
       "      <td>1</td>\n",
       "      <td>255.000010</td>\n",
       "      <td>0</td>\n",
       "      <td>506</td>\n",
       "    </tr>\n",
       "    <tr>\n",
       "      <th>1</th>\n",
       "      <td>0.593143</td>\n",
       "      <td>1</td>\n",
       "      <td>255.197714</td>\n",
       "      <td>512</td>\n",
       "      <td>506</td>\n",
       "    </tr>\n",
       "    <tr>\n",
       "      <th>2</th>\n",
       "      <td>0.706893</td>\n",
       "      <td>1</td>\n",
       "      <td>255.235631</td>\n",
       "      <td>1023</td>\n",
       "      <td>506</td>\n",
       "    </tr>\n",
       "    <tr>\n",
       "      <th>3</th>\n",
       "      <td>0.822498</td>\n",
       "      <td>1</td>\n",
       "      <td>255.274166</td>\n",
       "      <td>1023</td>\n",
       "      <td>1023</td>\n",
       "    </tr>\n",
       "    <tr>\n",
       "      <th>4</th>\n",
       "      <td>0.940527</td>\n",
       "      <td>1</td>\n",
       "      <td>255.313509</td>\n",
       "      <td>1023</td>\n",
       "      <td>1023</td>\n",
       "    </tr>\n",
       "    <tr>\n",
       "      <th>5</th>\n",
       "      <td>1.059367</td>\n",
       "      <td>1</td>\n",
       "      <td>255.353122</td>\n",
       "      <td>512</td>\n",
       "      <td>1023</td>\n",
       "    </tr>\n",
       "    <tr>\n",
       "      <th>6</th>\n",
       "      <td>1.173150</td>\n",
       "      <td>1</td>\n",
       "      <td>255.391050</td>\n",
       "      <td>512</td>\n",
       "      <td>1023</td>\n",
       "    </tr>\n",
       "    <tr>\n",
       "      <th>7</th>\n",
       "      <td>1.289530</td>\n",
       "      <td>1</td>\n",
       "      <td>255.429843</td>\n",
       "      <td>0</td>\n",
       "      <td>1023</td>\n",
       "    </tr>\n",
       "    <tr>\n",
       "      <th>8</th>\n",
       "      <td>1.401956</td>\n",
       "      <td>1</td>\n",
       "      <td>255.467319</td>\n",
       "      <td>0</td>\n",
       "      <td>1023</td>\n",
       "    </tr>\n",
       "    <tr>\n",
       "      <th>9</th>\n",
       "      <td>1.514280</td>\n",
       "      <td>1</td>\n",
       "      <td>255.504760</td>\n",
       "      <td>512</td>\n",
       "      <td>1023</td>\n",
       "    </tr>\n",
       "    <tr>\n",
       "      <th>10</th>\n",
       "      <td>1.628103</td>\n",
       "      <td>1</td>\n",
       "      <td>255.542701</td>\n",
       "      <td>1023</td>\n",
       "      <td>1023</td>\n",
       "    </tr>\n",
       "    <tr>\n",
       "      <th>11</th>\n",
       "      <td>1.745975</td>\n",
       "      <td>1</td>\n",
       "      <td>255.581992</td>\n",
       "      <td>1023</td>\n",
       "      <td>1023</td>\n",
       "    </tr>\n",
       "    <tr>\n",
       "      <th>12</th>\n",
       "      <td>1.864225</td>\n",
       "      <td>1</td>\n",
       "      <td>255.621408</td>\n",
       "      <td>1023</td>\n",
       "      <td>1023</td>\n",
       "    </tr>\n",
       "    <tr>\n",
       "      <th>13</th>\n",
       "      <td>1.982503</td>\n",
       "      <td>1</td>\n",
       "      <td>255.660834</td>\n",
       "      <td>1023</td>\n",
       "      <td>1023</td>\n",
       "    </tr>\n",
       "    <tr>\n",
       "      <th>14</th>\n",
       "      <td>2.101448</td>\n",
       "      <td>1</td>\n",
       "      <td>255.700483</td>\n",
       "      <td>641</td>\n",
       "      <td>1023</td>\n",
       "    </tr>\n",
       "    <tr>\n",
       "      <th>15</th>\n",
       "      <td>2.218476</td>\n",
       "      <td>1</td>\n",
       "      <td>255.739492</td>\n",
       "      <td>528</td>\n",
       "      <td>1023</td>\n",
       "    </tr>\n",
       "    <tr>\n",
       "      <th>16</th>\n",
       "      <td>2.334240</td>\n",
       "      <td>1</td>\n",
       "      <td>255.778080</td>\n",
       "      <td>512</td>\n",
       "      <td>1023</td>\n",
       "    </tr>\n",
       "    <tr>\n",
       "      <th>17</th>\n",
       "      <td>2.448563</td>\n",
       "      <td>1</td>\n",
       "      <td>255.816188</td>\n",
       "      <td>512</td>\n",
       "      <td>1023</td>\n",
       "    </tr>\n",
       "    <tr>\n",
       "      <th>18</th>\n",
       "      <td>2.562133</td>\n",
       "      <td>1</td>\n",
       "      <td>255.854044</td>\n",
       "      <td>512</td>\n",
       "      <td>506</td>\n",
       "    </tr>\n",
       "    <tr>\n",
       "      <th>19</th>\n",
       "      <td>2.676393</td>\n",
       "      <td>1</td>\n",
       "      <td>255.892131</td>\n",
       "      <td>512</td>\n",
       "      <td>506</td>\n",
       "    </tr>\n",
       "    <tr>\n",
       "      <th>20</th>\n",
       "      <td>2.790184</td>\n",
       "      <td>1</td>\n",
       "      <td>255.930061</td>\n",
       "      <td>512</td>\n",
       "      <td>506</td>\n",
       "    </tr>\n",
       "    <tr>\n",
       "      <th>21</th>\n",
       "      <td>2.904467</td>\n",
       "      <td>1</td>\n",
       "      <td>255.968156</td>\n",
       "      <td>512</td>\n",
       "      <td>506</td>\n",
       "    </tr>\n",
       "  </tbody>\n",
       "</table>\n",
       "</div>"
      ],
      "text/plain": [
       "      tiempo  led_verde    led_rojo  val_x  val_y\n",
       "0   0.000029          1  255.000010      0    506\n",
       "1   0.593143          1  255.197714    512    506\n",
       "2   0.706893          1  255.235631   1023    506\n",
       "3   0.822498          1  255.274166   1023   1023\n",
       "4   0.940527          1  255.313509   1023   1023\n",
       "5   1.059367          1  255.353122    512   1023\n",
       "6   1.173150          1  255.391050    512   1023\n",
       "7   1.289530          1  255.429843      0   1023\n",
       "8   1.401956          1  255.467319      0   1023\n",
       "9   1.514280          1  255.504760    512   1023\n",
       "10  1.628103          1  255.542701   1023   1023\n",
       "11  1.745975          1  255.581992   1023   1023\n",
       "12  1.864225          1  255.621408   1023   1023\n",
       "13  1.982503          1  255.660834   1023   1023\n",
       "14  2.101448          1  255.700483    641   1023\n",
       "15  2.218476          1  255.739492    528   1023\n",
       "16  2.334240          1  255.778080    512   1023\n",
       "17  2.448563          1  255.816188    512   1023\n",
       "18  2.562133          1  255.854044    512    506\n",
       "19  2.676393          1  255.892131    512    506\n",
       "20  2.790184          1  255.930061    512    506\n",
       "21  2.904467          1  255.968156    512    506"
      ]
     },
     "execution_count": 62,
     "metadata": {},
     "output_type": "execute_result"
    }
   ],
   "source": [
    "#ahora graficamos\n",
    "df = pd.read_csv(filename)\n",
    "df"
   ]
  },
  {
   "cell_type": "code",
   "execution_count": 63,
   "id": "2bdf2632",
   "metadata": {},
   "outputs": [
    {
     "data": {
      "image/png": "[encoded data removed]",
      "text/plain": [
       "<Figure size 640x480 with 1 Axes>"
      ]
     },
     "metadata": {},
     "output_type": "display_data"
    }
   ],
   "source": [
    "x = df['tiempo'].tolist()\n",
    "y=df['led_rojo'].tolist()\n",
    "\n",
    "ax = plt.figure().add_subplot()\n",
    "ax.plot(x,y)\n",
    "plt.show()\n"
   ]
  },
  {
   "cell_type": "code",
   "execution_count": 65,
   "id": "e986c34c",
   "metadata": {},
   "outputs": [
    {
     "data": {
      "image/png": "[encoded data removed]",
      "text/plain": [
       "<Figure size 640x480 with 1 Axes>"
      ]
     },
     "metadata": {},
     "output_type": "display_data"
    }
   ],
   "source": [
    "x = df['tiempo'].tolist()\n",
    "y=df['val_y'].tolist()\n",
    "\n",
    "ax = plt.figure().add_subplot()\n",
    "ax.plot(x,y)\n",
    "plt.show()"
   ]
  },
  {
   "cell_type": "code",
   "execution_count": 66,
   "id": "47af0ec4",
   "metadata": {},
   "outputs": [
    {
     "data": {
      "image/png": "[encoded data removed]",
      "text/plain": [
       "<Figure size 640x480 with 1 Axes>"
      ]
     },
     "metadata": {},
     "output_type": "display_data"
    }
   ],
   "source": [
    "x = df['tiempo'].tolist()\n",
    "y=df['val_x'].tolist()\n",
    "\n",
    "ax = plt.figure().add_subplot()\n",
    "ax.plot(x,y)\n",
    "plt.show()"
   ]
  },
  {
   "cell_type": "code",
   "execution_count": 67,
   "id": "455cf82b",
   "metadata": {},
   "outputs": [
    {
     "data": {
      "image/png": "[encoded data removed]",
      "text/plain": [
       "<Figure size 640x480 with 1 Axes>"
      ]
     },
     "metadata": {},
     "output_type": "display_data"
    }
   ],
   "source": [
    "x = df['tiempo'].tolist()\n",
    "y=df['led_verde'].tolist()\n",
    "\n",
    "ax = plt.figure().add_subplot()\n",
    "ax.plot(x,y)\n",
    "plt.show()"
   ]
  }
 ],
 "metadata": {
  "kernelspec": {
   "display_name": "Python 3 (ipykernel)",
   "language": "python",
   "name": "python3"
  },
  "language_info": {
   "codemirror_mode": {
    "name": "ipython",
    "version": 3
   },
   "file_extension": ".py",
   "mimetype": "text/x-python",
   "name": "python",
   "nbconvert_exporter": "python",
   "pygments_lexer": "ipython3",
   "version": "3.10.0"
  }
 },
 "nbformat": 4,
 "nbformat_minor": 5
}
